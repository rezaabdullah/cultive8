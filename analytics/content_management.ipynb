{
 "cells": [
  {
   "cell_type": "code",
   "execution_count": 1,
   "metadata": {},
   "outputs": [],
   "source": [
    "import pandas as pd\n",
    "import numpy as np\n",
    "import pymssql\n",
    "from os import getenv\n",
    "from dotenv import load_dotenv, find_dotenv\n",
    "from sqlalchemy import create_engine, URL"
   ]
  },
  {
   "cell_type": "code",
   "execution_count": 2,
   "metadata": {},
   "outputs": [],
   "source": [
    "# find .env file and load environment variables\n",
    "load_dotenv(find_dotenv())\n",
    "server = getenv(\"SERVER\")\n",
    "username = getenv(\"USERNAME\")\n",
    "password = getenv(\"PASSWORD\")\n",
    "db = getenv(\"DATABASE\")"
   ]
  },
  {
   "cell_type": "code",
   "execution_count": 3,
   "metadata": {},
   "outputs": [],
   "source": [
    "# connect with db and query data\n",
    "url_object = URL.create(\n",
    "    \"mssql+pymssql\",\n",
    "    username=username,\n",
    "    password=password,\n",
    "    host=server,\n",
    "    database=db,\n",
    ")\n",
    "engine = create_engine(url_object)\n",
    "query = \"\"\"\n",
    "    SELECT *\n",
    "    FROM Reports.ContentManagementDetails\n",
    "    ORDER BY CreatedDate\n",
    "\"\"\"\n",
    "df = pd.read_sql(query, engine)"
   ]
  },
  {
   "cell_type": "code",
   "execution_count": 4,
   "metadata": {},
   "outputs": [
    {
     "name": "stdout",
     "output_type": "stream",
     "text": [
      "(10002, 19)\n"
     ]
    },
    {
     "data": {
      "text/plain": [
       "ContentManagementDetailsID        0\n",
       "ProductID                         0\n",
       "ProductCategory                   0\n",
       "ProductSubCategory                0\n",
       "ProductType                       0\n",
       "InputCompany                      0\n",
       "InputCompanyCode                  0\n",
       "Product                           0\n",
       "ProductCode                       0\n",
       "Status                            0\n",
       "CreatedDate                       0\n",
       "CreatedBy                         0\n",
       "UpdatedDate                   10002\n",
       "UpdatedBy                      9237\n",
       "IsActive                          0\n",
       "CreatedBy1                        0\n",
       "CreatedDate1                      0\n",
       "ModifiedBy                     9882\n",
       "ModifiedDate                   9882\n",
       "dtype: int64"
      ]
     },
     "execution_count": 4,
     "metadata": {},
     "output_type": "execute_result"
    }
   ],
   "source": [
    "# data exploration\n",
    "print(df.shape)\n",
    "\n",
    "# find null values\n",
    "df.isnull().sum()"
   ]
  },
  {
   "cell_type": "code",
   "execution_count": 5,
   "metadata": {},
   "outputs": [],
   "source": [
    "# drop columns\n",
    "df.drop(columns=[\"ContentManagementDetailsID\", \"ProductID\", \"CreatedBy1\", \"ModifiedBy\"], inplace=True)"
   ]
  },
  {
   "cell_type": "code",
   "execution_count": 6,
   "metadata": {},
   "outputs": [],
   "source": [
    "# define datetime columns and convert to date\n",
    "df[\"CreatedDate\"] = pd.to_datetime(df[\"CreatedDate\"], format=\"%Y-%m-%d %H:%M:%S.%f\").dt.date\n",
    "df[\"UpdatedDate\"] = pd.to_datetime(df[\"UpdatedDate\"], format=\"%Y-%m-%d %H:%M:%S.%f\").dt.date\n",
    "df[\"CreatedDate1\"] = pd.to_datetime(df[\"CreatedDate1\"], format=\"%Y-%m-%d %H:%M:%S.%f\").dt.date\n",
    "df[\"ModifiedDate\"] = pd.to_datetime(df[\"ModifiedDate\"], format=\"%Y-%m-%d %H:%M:%S.%f\").dt.date\n",
    "\n",
    "# replace None with NaN\n",
    "df.UpdatedBy.fillna(value=np.nan, inplace=True)"
   ]
  },
  {
   "cell_type": "code",
   "execution_count": 7,
   "metadata": {},
   "outputs": [],
   "source": [
    "# replace Cultive & PharmapulseUser with NaN\n",
    "df[\"CreatedBy\"] = np.where(((df[\"CreatedBy\"] == \"Cultive\") | (df[\"CreatedBy\"] == \"PharmapulseUser\")), np.nan, df[\"CreatedBy\"])\n",
    "df[\"UpdatedBy\"] = np.where(((df[\"UpdatedBy\"] == \"Cultive\") | (df[\"UpdatedBy\"] == \"PharmapulseUser\")), np.nan, df[\"UpdatedBy\"])\n",
    "\n",
    "# replace Sanzida with Shama Sanjida\n",
    "df[\"CreatedBy\"] = np.where((df[\"CreatedBy\"] == \"Sanzida\"), \"Shama Shanjida\", df[\"CreatedBy\"])\n",
    "df[\"UpdatedBy\"] = np.where((df[\"UpdatedBy\"] == \"Sanzida\"), \"Shama Shanjida\", df[\"UpdatedBy\"])\n",
    "\n",
    "# create CreatedByNew column\n",
    "conditions = [\n",
    "    (pd.isnull(df[\"CreatedBy\"]) & pd.isnull(df[\"UpdatedBy\"])),\n",
    "    (pd.isnull(df[\"CreatedBy\"]) & pd.notnull(df[\"UpdatedBy\"])),\n",
    "    (pd.notnull(df[\"CreatedBy\"]) & pd.isnull(df[\"UpdatedBy\"]))\n",
    "]\n",
    "choice = [np.nan, df[\"UpdatedBy\"], df[\"CreatedBy\"]]\n",
    "df[\"CreatedByNew\"] = np.select(conditions, choice, default=df[\"CreatedBy\"])\n",
    "\n",
    "df.to_csv(\"/mnt/c/Users/Hp/Desktop/query_results/product_entry.csv\", index=False)"
   ]
  }
 ],
 "metadata": {
  "kernelspec": {
   "display_name": "venv",
   "language": "python",
   "name": "python3"
  },
  "language_info": {
   "codemirror_mode": {
    "name": "ipython",
    "version": 3
   },
   "file_extension": ".py",
   "mimetype": "text/x-python",
   "name": "python",
   "nbconvert_exporter": "python",
   "pygments_lexer": "ipython3",
   "version": "3.10.6"
  },
  "orig_nbformat": 4
 },
 "nbformat": 4,
 "nbformat_minor": 2
}
