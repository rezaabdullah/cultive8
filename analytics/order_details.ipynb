{
 "cells": [
  {
   "cell_type": "code",
   "execution_count": 6,
   "metadata": {},
   "outputs": [],
   "source": [
    "import pandas as pd\n",
    "import numpy as np\n",
    "import pymssql\n",
    "from os import getenv\n",
    "import hashlib\n",
    "from dotenv import load_dotenv, find_dotenv\n",
    "from sqlalchemy import create_engine, URL"
   ]
  },
  {
   "cell_type": "code",
   "execution_count": 7,
   "metadata": {},
   "outputs": [],
   "source": [
    "# find .env file and load environment variables\n",
    "load_dotenv(find_dotenv())\n",
    "server = getenv(\"SERVER\")\n",
    "username = getenv(\"USERNAME\")\n",
    "password = getenv(\"PASSWORD\")\n",
    "db = getenv(\"DATABASE\")"
   ]
  },
  {
   "cell_type": "code",
   "execution_count": 8,
   "metadata": {},
   "outputs": [],
   "source": [
    "# connect with db and query data\n",
    "url_object = URL.create(\n",
    "    \"mssql+pymssql\",\n",
    "    username=username,\n",
    "    password=password,\n",
    "    host=server,\n",
    "    database=db,\n",
    ")\n",
    "engine = create_engine(url_object)\n",
    "# query = \"\"\"\n",
    "# SELECT OrderNumber,\n",
    "# \tOrderDate,\n",
    "# \tAgentName,\n",
    "# \tRetailerName,\n",
    "# \tOrderDiscount,\n",
    "# \tItemCode,\n",
    "# \tQuantity,\n",
    "# \tSellingPrice,\n",
    "# \tNetValue,\n",
    "# \tLineDiscount,\n",
    "# \tRetailerDistrict,\n",
    "# \tRetailerUpazila,\n",
    "# \tInputCompany,\n",
    "# \tProductCategory,\n",
    "# \tProductSubCategory,\n",
    "# \tProductType,\n",
    "# \tOrderStatus,\n",
    "# \tCreatedDate,\n",
    "# \tModifiedDate\n",
    "# FROM Reports.OrderDetails\n",
    "# \"\"\"\n",
    "# query = \"\"\"\n",
    "# SELECT *\n",
    "# FROM Reports.OrderDetails\n",
    "# \"\"\"\n",
    "# query = \"\"\"\n",
    "#     SELECT RetailerDistrict AS District,\n",
    "#         RetailerName,\n",
    "#         OrderDate,\n",
    "#         OrderNumber,\n",
    "#         SUM(NetValue) AS NetAmount\n",
    "#     FROM Reports.OrderDetails\n",
    "#     WHERE OrderDate > '2023-05-28' AND OrderDate < '2023-06-13'\n",
    "#         AND RetailerName NOT IN ('New instance', 'Avinash Wijenayake')\n",
    "#     GROUP BY RetailerDistrict, RetailerName, OrderDate, OrderNumber\n",
    "#     ORDER BY RetailerName DESC\n",
    "# \"\"\"\n",
    "query = \"\"\"\n",
    "SELECT ProductCategory,\n",
    "\tProductSubCategory,\n",
    "\tProductType,\n",
    "\tInputCompany,\n",
    "\tProduct,\n",
    "\tProductCode,\n",
    "\tCreatedDate,\n",
    "\tCreatedBy\n",
    "FROM Reports.ContentManagementDetails\n",
    "WHERE ProductCategory <> 'Crops' AND CreatedDate >= '2023-01-01'\n",
    "ORDER BY Product\n",
    "\"\"\"\n",
    "df = pd.read_sql(query, engine)"
   ]
  },
  {
   "cell_type": "code",
   "execution_count": 9,
   "metadata": {},
   "outputs": [],
   "source": [
    "# # Convert column to string\n",
    "# df[\"AgentName\"] = df[\"AgentName\"].astype(str)\n",
    "# df[\"RetailerName\"] = df[\"RetailerName\"].astype(str)\n",
    "# df[\"InputCompany\"] = df[\"InputCompany\"].astype(str)\n",
    "\n",
    "# # Apply hashing function to the column\n",
    "# df[\"AgentName_hash\"] = df[\"AgentName\"].apply(lambda x: hashlib.sha256(x.encode()).hexdigest())\n",
    "# df[\"RetailerName_hash\"] = df[\"RetailerName\"].apply(lambda x: hashlib.sha256(x.encode()).hexdigest())\n",
    "# df[\"InputCompany_hash\"] = df[\"InputCompany\"].apply(lambda x: hashlib.sha256(x.encode()).hexdigest())\n",
    "\n",
    "# # drop columns\n",
    "# df.drop(columns=[\"AgentName\", \"RetailerName\", \"InputCompany\"], inplace=True)\n",
    "# # rename columns\n",
    "# df.rename(columns={\"AgentName_hash\": \"AgentName\", \"RetailerName_hash\": \"RetailerName\", \"InputCompany_hash\": \"InputCompany\"}, inplace=True)"
   ]
  },
  {
   "cell_type": "code",
   "execution_count": 10,
   "metadata": {},
   "outputs": [],
   "source": [
    "# df.to_csv(\"/mnt/c/Users/Hp/Desktop/order_details.csv\", index=False)\n",
    "# df.to_csv(\"/mnt/c/Users/Hp/Desktop/operation_details.csv\", index=False)\n",
    "df.to_csv(\"/mnt/c/Users/Hp/Desktop/animal_health_product_2023.csv\", index=False)"
   ]
  },
  {
   "cell_type": "code",
   "execution_count": null,
   "metadata": {},
   "outputs": [],
   "source": []
  }
 ],
 "metadata": {
  "kernelspec": {
   "display_name": "venv",
   "language": "python",
   "name": "python3"
  },
  "language_info": {
   "codemirror_mode": {
    "name": "ipython",
    "version": 3
   },
   "file_extension": ".py",
   "mimetype": "text/x-python",
   "name": "python",
   "nbconvert_exporter": "python",
   "pygments_lexer": "ipython3",
   "version": "3.10.6"
  },
  "orig_nbformat": 4
 },
 "nbformat": 4,
 "nbformat_minor": 2
}
