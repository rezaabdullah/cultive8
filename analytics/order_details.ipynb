{
 "cells": [
  {
   "cell_type": "code",
   "execution_count": 11,
   "metadata": {},
   "outputs": [],
   "source": [
    "import pandas as pd\n",
    "import numpy as np\n",
    "import pymssql\n",
    "from os import getenv\n",
    "import hashlib\n",
    "from dotenv import load_dotenv, find_dotenv\n",
    "from sqlalchemy import create_engine, URL"
   ]
  },
  {
   "cell_type": "code",
   "execution_count": 12,
   "metadata": {},
   "outputs": [],
   "source": [
    "# find .env file and load environment variables\n",
    "load_dotenv(find_dotenv())\n",
    "server = getenv(\"SERVER\")\n",
    "username = getenv(\"USERNAME\")\n",
    "password = getenv(\"PASSWORD\")\n",
    "db = getenv(\"DATABASE\")"
   ]
  },
  {
   "cell_type": "code",
   "execution_count": 13,
   "metadata": {},
   "outputs": [],
   "source": [
    "# connect with db and query data\n",
    "url_object = URL.create(\n",
    "    \"mssql+pymssql\",\n",
    "    username=username,\n",
    "    password=password,\n",
    "    host=server,\n",
    "    database=db,\n",
    ")\n",
    "engine = create_engine(url_object)\n",
    "\n",
    "query = \"\"\"\n",
    "SELECT OrderNumber,\n",
    "\tOrderDate,\n",
    "    AgentName,\n",
    "    RetailerName,\n",
    "    OrderDiscount,\n",
    "    ItemCode,\n",
    "    ItemName,\n",
    "    Quantity,\n",
    "    SellingPrice,\n",
    "    NetValue,\n",
    "    LineDiscount,\n",
    "    RetailerDistrict,\n",
    "    RetailerUpazila,\n",
    "    RetailerUnion,\n",
    "    InputCompany,\n",
    "    ProductCategory,\n",
    "    ProductSubCategory,\n",
    "    ProductType,\n",
    "    OrderStatus\n",
    "FROM Reports.OrderDetails\n",
    "ORDER BY OrderDate\n",
    "\"\"\"\n",
    "df = pd.read_sql(query, engine)"
   ]
  },
  {
   "cell_type": "code",
   "execution_count": 14,
   "metadata": {},
   "outputs": [],
   "source": [
    "# Convert columns\n",
    "df[\"OrderNumber\"] = df[\"OrderNumber\"].astype(str)\n",
    "df[\"ItemCode\"] = df[\"ItemCode\"].astype(str)\n",
    "df[\"OrderDate\"] = pd.to_datetime(df[\"OrderDate\"], format=\"%Y-%m-%d %H:%M:%S.%f\").dt.date"
   ]
  },
  {
   "cell_type": "code",
   "execution_count": 15,
   "metadata": {},
   "outputs": [],
   "source": [
    "df.to_excel(\"/mnt/c/Users/Hp/Desktop/order_details.xlsx\", index=False)"
   ]
  },
  {
   "cell_type": "code",
   "execution_count": null,
   "metadata": {},
   "outputs": [],
   "source": []
  }
 ],
 "metadata": {
  "kernelspec": {
   "display_name": "venv",
   "language": "python",
   "name": "python3"
  },
  "language_info": {
   "codemirror_mode": {
    "name": "ipython",
    "version": 3
   },
   "file_extension": ".py",
   "mimetype": "text/x-python",
   "name": "python",
   "nbconvert_exporter": "python",
   "pygments_lexer": "ipython3",
   "version": "3.10.6"
  },
  "orig_nbformat": 4
 },
 "nbformat": 4,
 "nbformat_minor": 2
}
