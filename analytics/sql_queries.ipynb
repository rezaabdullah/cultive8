{
 "cells": [
  {
   "cell_type": "code",
   "execution_count": 44,
   "metadata": {},
   "outputs": [],
   "source": [
    "import pandas as pd\n",
    "import numpy as np\n",
    "import pymssql\n",
    "from os import getenv\n",
    "import hashlib\n",
    "from dotenv import load_dotenv, find_dotenv\n",
    "from sqlalchemy import create_engine, URL"
   ]
  },
  {
   "cell_type": "code",
   "execution_count": 45,
   "metadata": {},
   "outputs": [],
   "source": [
    "# find .env file and load environment variables\n",
    "load_dotenv(find_dotenv())\n",
    "server = getenv(\"SERVER\")\n",
    "username = getenv(\"USERNAME\")\n",
    "password = getenv(\"PASSWORD\")\n",
    "db = getenv(\"DATABASE\")"
   ]
  },
  {
   "cell_type": "code",
   "execution_count": 46,
   "metadata": {},
   "outputs": [],
   "source": [
    "# connect with db and query data\n",
    "url_object = URL.create(\n",
    "    \"mssql+pymssql\",\n",
    "    username=username,\n",
    "    password=password,\n",
    "    host=server,\n",
    "    database=db,\n",
    ")\n",
    "engine = create_engine(url_object)\n",
    "\n",
    "query = \"\"\"\n",
    "    SELECT Agent,\n",
    "        Product,\n",
    "        InputCompany,\n",
    "        Quantity,\n",
    "        ProductStockQuantity AS ProductValue\n",
    "    FROM Reports.OperationDetails\n",
    "    WHERE Agent <> 'Platform Agent'\n",
    "    ORDER BY Agent\n",
    "\"\"\"\n",
    "df = pd.read_sql(query, engine)"
   ]
  },
  {
   "cell_type": "code",
   "execution_count": 47,
   "metadata": {},
   "outputs": [],
   "source": [
    "# Convert columns\n",
    "# df[\"CreatedDate\"] = pd.to_datetime(df[\"CreatedDate\"], format=\"%Y-%m-%d %H:%M:%S.%f\").dt.date"
   ]
  },
  {
   "cell_type": "code",
   "execution_count": 48,
   "metadata": {},
   "outputs": [],
   "source": [
    "df.to_excel(\"/mnt/c/Users/Hp/Desktop/inventory.xlsx\", index=False)"
   ]
  }
 ],
 "metadata": {
  "kernelspec": {
   "display_name": "venv",
   "language": "python",
   "name": "python3"
  },
  "language_info": {
   "codemirror_mode": {
    "name": "ipython",
    "version": 3
   },
   "file_extension": ".py",
   "mimetype": "text/x-python",
   "name": "python",
   "nbconvert_exporter": "python",
   "pygments_lexer": "ipython3",
   "version": "3.10.6"
  },
  "orig_nbformat": 4
 },
 "nbformat": 4,
 "nbformat_minor": 2
}
